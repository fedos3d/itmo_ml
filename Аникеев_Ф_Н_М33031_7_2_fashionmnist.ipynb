{
  "nbformat": 4,
  "nbformat_minor": 0,
  "metadata": {
    "colab": {
      "name": "Аникеев Ф.Н. М33031 7.2 fashionmnist.ipynb",
      "provenance": [],
      "collapsed_sections": []
    },
    "kernelspec": {
      "display_name": "Python 3",
      "language": "python",
      "name": "python3"
    },
    "accelerator": "GPU"
  },
  "cells": [
    {
      "cell_type": "markdown",
      "metadata": {
        "id": "ezjWeWD7WsxU"
      },
      "source": [
        " # FashionMNIST\n",
        "\n",
        " ## Задание 7.2"
      ]
    },
    {
      "cell_type": "markdown",
      "metadata": {
        "id": "AygNFOvoWsxY"
      },
      "source": [
        "<img src=\"https://emiliendupont.github.io/imgs/mnist-chicken/mnist-and-fashion-examples.png\">"
      ]
    },
    {
      "cell_type": "markdown",
      "metadata": {
        "id": "YNF5C2b_Wsxh"
      },
      "source": [
        "На практике построим нейронную сеть для классификации картиной. В качестве входных данных используются картинки одежды (в градациях серого, то есть цветовых каналов не 3, а 1). По входной картинке нужно предсказать тип одежды."
      ]
    },
    {
      "cell_type": "code",
      "metadata": {
        "id": "2IYPMzDudZeN"
      },
      "source": [
        "# !pip install torchvision\n",
        "\n",
        "import numpy as np\n",
        "import matplotlib.pyplot as plt\n",
        "\n",
        "import torch\n",
        "import torchvision"
      ],
      "execution_count": null,
      "outputs": []
    },
    {
      "cell_type": "markdown",
      "metadata": {
        "id": "ZEr2x6meSqNj"
      },
      "source": [
        "Скачаем обучающую и контрольную выборки."
      ]
    },
    {
      "cell_type": "code",
      "metadata": {
        "id": "FCedv50ReIUZ"
      },
      "source": [
        "trainset = torchvision.datasets.FashionMNIST(root='./data', train=True,\n",
        "                                        download=True, transform=None)\n",
        "trainloader = torch.utils.data.DataLoader(trainset, batch_size=4,\n",
        "                                          shuffle=True, num_workers=2)\n",
        "\n",
        "testset = torchvision.datasets.FashionMNIST(root='./data', train=False,\n",
        "                                       download=True, transform=None)\n",
        "testloader = torch.utils.data.DataLoader(testset, batch_size=4,\n",
        "                                         shuffle=False, num_workers=2)\n",
        "\n",
        "#classes = (<перечислите классы как строки>)"
      ],
      "execution_count": null,
      "outputs": []
    },
    {
      "cell_type": "markdown",
      "metadata": {
        "id": "CZTfJ0dBWszP"
      },
      "source": [
        "Каждая картинка имеет класс от 0 до 9, расшифровка меток класса:  \n",
        "\n",
        "|class_id|class_name|\n",
        "|----|----|\n",
        "|0| T-shirt/top|\n",
        "|1| Trouser|\n",
        "|2| Pullover|\n",
        "|3| Dress|\n",
        "|4| Coat|\n",
        "|5| Sandal|\n",
        "|6| Shirt|\n",
        "|7| Sneaker|\n",
        "|8| Bag|\n",
        "|9| Ankle boot| "
      ]
    },
    {
      "cell_type": "markdown",
      "metadata": {
        "id": "RkDjjoj2Ws04"
      },
      "source": [
        "<h2 style=\"text-align: center;\"><b>Задание</b></h2>"
      ]
    },
    {
      "cell_type": "markdown",
      "metadata": {
        "id": "b_DjMGZPWszt"
      },
      "source": [
        "Посмотрите на датасет.\n",
        "* Сколько картинок в train? В test?\n",
        "* Равномерно ли распределено количество объектов разных классов в train датасете (это можно понять, поработав с полем `train_data` у переменной `trainset`)? в test?\n",
        "* Выведите несколько картинок с помощью `pyplot`\n",
        "\n",
        "Используя материалы семинаров по многослойным  и свёрточным сетям, напишите:\n",
        "1.  Многослойную нейронную сеть MLP (Multi-Layer Perceptron) классифицирующую этот датасет\n",
        "2. Свёрточную сеть, классифицирующую этот датасет\n",
        "3. Сравните их качество (по графикам лосса и по Accuracy Score)\n",
        "\n",
        "Если качество, которое получается у  нейросети, выше 95%, то Вы решили задачу с точностью, которую можно использовать в жизни."
      ]
    },
    {
      "cell_type": "code",
      "metadata": {
        "id": "Ev5LShUSWs06"
      },
      "source": [
        "# <Ваш код здесь (может занимать много ячеек)> \n"
      ],
      "execution_count": null,
      "outputs": []
    },
    {
      "cell_type": "code",
      "source": [
        "print(\"Колво картинок в train: \", len(trainset))"
      ],
      "metadata": {
        "colab": {
          "base_uri": "https://localhost:8080/"
        },
        "id": "Zl629pk_-Cm-",
        "outputId": "753c31b8-b11f-4d46-d952-f82bc75f7162"
      },
      "execution_count": null,
      "outputs": [
        {
          "output_type": "stream",
          "name": "stdout",
          "text": [
            "Колво картинок в train:  60000\n"
          ]
        }
      ]
    },
    {
      "cell_type": "code",
      "source": [
        "print(\"Колво картинок в test: \", len(testset))"
      ],
      "metadata": {
        "colab": {
          "base_uri": "https://localhost:8080/"
        },
        "id": "QQVTtzH7-P6S",
        "outputId": "a958cd9f-25f6-4ad5-bd99-9192e7c4144d"
      },
      "execution_count": null,
      "outputs": [
        {
          "output_type": "stream",
          "name": "stdout",
          "text": [
            "Колво картинок в test:  10000\n"
          ]
        }
      ]
    },
    {
      "cell_type": "code",
      "source": [
        "_, trainset_counts = trainset.train_labels.unique(return_counts=True)\n",
        "print(trainset_counts)\n",
        "_, testset_counts = testset.train_labels.unique(return_counts=True)\n",
        "print(testset_counts)"
      ],
      "metadata": {
        "id": "CRXEAGuY-HzX",
        "colab": {
          "base_uri": "https://localhost:8080/"
        },
        "outputId": "dc0b1448-1de8-42a0-a0f8-9c4e1fd1e5a2"
      },
      "execution_count": null,
      "outputs": [
        {
          "output_type": "stream",
          "name": "stdout",
          "text": [
            "tensor([6000, 6000, 6000, 6000, 6000, 6000, 6000, 6000, 6000, 6000])\n",
            "tensor([1000, 1000, 1000, 1000, 1000, 1000, 1000, 1000, 1000, 1000])\n"
          ]
        }
      ]
    },
    {
      "cell_type": "markdown",
      "source": [
        "Мы видим, что все классы распределены равномерно как в тренировочной выборке так и в тестовой."
      ],
      "metadata": {
        "id": "cRZMtEqNuV6R"
      }
    },
    {
      "cell_type": "code",
      "source": [
        "# Let's print some pics:\n",
        "for i in range(4):\n",
        "  i = np.random.randint(low=0, high=50000)\n",
        "  plt.figure()\n",
        "  plt.imshow(trainloader.dataset.data[i])\n",
        "  print (trainloader.dataset.classes[trainloader.dataset.targets[i]])"
      ],
      "metadata": {
        "colab": {
          "base_uri": "https://localhost:8080/",
          "height": 1000
        },
        "id": "xYBFsVw0APfB",
        "outputId": "f2bf1e96-d2f5-463f-bd05-473e79d95ca2"
      },
      "execution_count": null,
      "outputs": [
        {
          "output_type": "stream",
          "name": "stdout",
          "text": [
            "Sandal\n",
            "Trouser\n",
            "Sandal\n",
            "Trouser\n"
          ]
        },
        {
          "output_type": "display_data",
          "data": {
            "image/png": "[encoded data removed]",
            "text/plain": [
              "<Figure size 432x288 with 1 Axes>"
            ]
          },
          "metadata": {
            "needs_background": "light"
          }
        },
        {
          "output_type": "display_data",
          "data": {
            "image/png": "[encoded data removed]",
            "text/plain": [
              "<Figure size 432x288 with 1 Axes>"
            ]
          },
          "metadata": {
            "needs_background": "light"
          }
        },
        {
          "output_type": "display_data",
          "data": {
            "image/png": "[encoded data removed]",
            "text/plain": [
              "<Figure size 432x288 with 1 Axes>"
            ]
          },
          "metadata": {
            "needs_background": "light"
          }
        },
        {
          "output_type": "display_data",
          "data": {
            "image/png": "[encoded data removed]",
            "text/plain": [
              "<Figure size 432x288 with 1 Axes>"
            ]
          },
          "metadata": {
            "needs_background": "light"
          }
        }
      ]
    },
    {
      "cell_type": "code",
      "source": [
        "from keras.layers import Conv2D\n",
        "%tensorflow_version 1.x\n",
        "# Импортируем сам keras\n",
        "import keras\n",
        "# Последовательный тип модели\n",
        "from keras.models import Sequential\n",
        "# Импортируем полносвязный слой, слои активации и слой, превращающий картинку в вектор\n",
        "from keras.layers import Dense, Activation, Flatten, Dropout, MaxPooling2D\n",
        "# Импортируем датасеты, чтобы вытащить оттуда нужные нам данные\n",
        "import keras.datasets\n",
        "\n",
        "import numpy as np\n",
        "from matplotlib import pyplot as plt\n",
        "\n",
        "# Эти библиотеки отключают лишние предупреждения от библиотек, в частности,\n",
        "# tensorflow, чтобы не засорять вывод наших результатов\n",
        "import os\n",
        "os.environ['TF_CPP_MIN_LOG_LEVEL'] = '3' \n",
        "from tensorflow.python.util import deprecation\n",
        "deprecation._PRINT_DEPRECATION_WARNINGS = False\n",
        "import warnings\n",
        "warnings.filterwarnings(\"ignore\")\n",
        "\n",
        "# keras является оболочкой для более низкоуровневых библиотек, \n",
        "# в нашем случае мы используем tensorflow, у которого на данный момент \n",
        "# поддерживаются две версии, установим первую\n",
        "import tensorflow.compat.v1 as tf\n",
        "tf.disable_v2_behavior()"
      ],
      "metadata": {
        "colab": {
          "base_uri": "https://localhost:8080/"
        },
        "id": "63vWPzhv5_L_",
        "outputId": "8a12f765-d112-4200-8c86-709cd87d586a"
      },
      "execution_count": null,
      "outputs": [
        {
          "output_type": "stream",
          "name": "stdout",
          "text": [
            "TensorFlow is already loaded. Please restart the runtime to change versions.\n"
          ]
        }
      ]
    },
    {
      "cell_type": "code",
      "source": [
        "%%capture\n",
        "from keras.datasets import fashion_mnist\n",
        "(X_train, y_train), (X_test, y_test) = fashion_mnist.load_data()\n"
      ],
      "metadata": {
        "id": "BEfX42Mm6Qed"
      },
      "execution_count": null,
      "outputs": []
    },
    {
      "cell_type": "code",
      "source": [
        "X_train=X_train/255\n",
        "X_test=X_test/255"
      ],
      "metadata": {
        "id": "FgdQy9Dx6tSn"
      },
      "execution_count": null,
      "outputs": []
    },
    {
      "cell_type": "code",
      "source": [
        "from tensorflow.keras.utils import to_categorical "
      ],
      "metadata": {
        "id": "OXBrfc-Y7w48"
      },
      "execution_count": null,
      "outputs": []
    },
    {
      "cell_type": "code",
      "source": [
        "y_train=to_categorical(y_train,10)\n",
        "y_test=to_categorical(y_test,10)"
      ],
      "metadata": {
        "id": "3uXFkDcc62qe"
      },
      "execution_count": null,
      "outputs": []
    },
    {
      "cell_type": "code",
      "source": [
        "input_size = X_train[0].shape"
      ],
      "metadata": {
        "id": "SnMTA-wg7A0a"
      },
      "execution_count": null,
      "outputs": []
    },
    {
      "cell_type": "code",
      "source": [
        "X_train = X_train.reshape(-1, 28, 28, 1)\n",
        "X_test = X_test.reshape(-1, 28, 28, 1)"
      ],
      "metadata": {
        "id": "Dzpac15zDBaR"
      },
      "execution_count": null,
      "outputs": []
    },
    {
      "cell_type": "code",
      "source": [
        "input_size = X_train[0].shape"
      ],
      "metadata": {
        "id": "PFdbkPXwDC_e"
      },
      "execution_count": null,
      "outputs": []
    },
    {
      "cell_type": "code",
      "source": [
        "input_size"
      ],
      "metadata": {
        "colab": {
          "base_uri": "https://localhost:8080/"
        },
        "id": "QFUhYpXD84FY",
        "outputId": "32290038-c468-44b1-b1d5-92e6b3fbc271"
      },
      "execution_count": null,
      "outputs": [
        {
          "output_type": "execute_result",
          "data": {
            "text/plain": [
              "(28, 28, 1)"
            ]
          },
          "metadata": {},
          "execution_count": 64
        }
      ]
    },
    {
      "cell_type": "code",
      "source": [
        "# Многослойная нейросеть\n",
        "best_cnn = Sequential()\n",
        "\n",
        "best_cnn.add(Flatten())\n",
        "\n",
        "#...\n",
        "\n",
        "best_cnn.add(Dense(128, activation='relu'))\n",
        "\n",
        "best_cnn.add(Dense(64, activation='relu'))\n",
        "best_cnn.add(Dropout(0.4))\n",
        "best_cnn.add(Dense(80, activation='relu'))\n",
        "best_cnn.add(Dropout(0.2))\n",
        "best_cnn.add(Dense(10, activation='softmax'))\n",
        "\n",
        "\n",
        "best_cnn.compile(loss='categorical_crossentropy',\n",
        "                  optimizer = 'nadam',\n",
        "                  metrics = ['accuracy'])"
      ],
      "metadata": {
        "id": "Oj_Pa2Gg4pZk"
      },
      "execution_count": null,
      "outputs": []
    },
    {
      "cell_type": "code",
      "source": [
        "history_cnn = best_cnn.fit(X_train, y_train,\n",
        "      batch_size=64 ,#например, 128\n",
        "      epochs=10,#например, 12\n",
        "      validation_data=(X_test, y_test))"
      ],
      "metadata": {
        "colab": {
          "base_uri": "https://localhost:8080/"
        },
        "id": "-tZio86q8a_G",
        "outputId": "15a197b9-0d69-436a-89c6-ade18528475b"
      },
      "execution_count": null,
      "outputs": [
        {
          "output_type": "stream",
          "name": "stdout",
          "text": [
            "Train on 60000 samples, validate on 10000 samples\n",
            "Epoch 1/10\n",
            "60000/60000 [==============================] - 6s 103us/sample - loss: 0.6586 - acc: 0.7674 - val_loss: 0.4399 - val_acc: 0.8352\n",
            "Epoch 2/10\n",
            "60000/60000 [==============================] - 6s 97us/sample - loss: 0.4456 - acc: 0.8429 - val_loss: 0.3841 - val_acc: 0.8613\n",
            "Epoch 3/10\n",
            "60000/60000 [==============================] - 6s 99us/sample - loss: 0.3957 - acc: 0.8595 - val_loss: 0.3897 - val_acc: 0.8612\n",
            "Epoch 4/10\n",
            "60000/60000 [==============================] - 6s 99us/sample - loss: 0.3635 - acc: 0.8716 - val_loss: 0.3548 - val_acc: 0.8734\n",
            "Epoch 5/10\n",
            "60000/60000 [==============================] - 6s 100us/sample - loss: 0.3460 - acc: 0.8771 - val_loss: 0.3565 - val_acc: 0.8695\n",
            "Epoch 6/10\n",
            "60000/60000 [==============================] - 6s 98us/sample - loss: 0.3294 - acc: 0.8822 - val_loss: 0.3800 - val_acc: 0.8620\n",
            "Epoch 7/10\n",
            "60000/60000 [==============================] - 6s 97us/sample - loss: 0.3183 - acc: 0.8859 - val_loss: 0.3581 - val_acc: 0.8720\n",
            "Epoch 8/10\n",
            "60000/60000 [==============================] - 6s 97us/sample - loss: 0.3076 - acc: 0.8903 - val_loss: 0.3417 - val_acc: 0.8770\n",
            "Epoch 9/10\n",
            "60000/60000 [==============================] - 6s 99us/sample - loss: 0.2995 - acc: 0.8932 - val_loss: 0.3479 - val_acc: 0.8741\n",
            "Epoch 10/10\n",
            "60000/60000 [==============================] - 6s 101us/sample - loss: 0.2906 - acc: 0.8949 - val_loss: 0.3368 - val_acc: 0.8775\n"
          ]
        }
      ]
    },
    {
      "cell_type": "code",
      "source": [
        "best_cnn.evaluate(X_test, y_test)"
      ],
      "metadata": {
        "colab": {
          "base_uri": "https://localhost:8080/"
        },
        "id": "s3YfJRmf9SU8",
        "outputId": "69e46a14-bb05-456e-c025-777855ea8336"
      },
      "execution_count": null,
      "outputs": [
        {
          "output_type": "execute_result",
          "data": {
            "text/plain": [
              "[0.33679058059453965, 0.8775]"
            ]
          },
          "metadata": {},
          "execution_count": 67
        }
      ]
    },
    {
      "cell_type": "code",
      "source": [
        "plt.plot(history_cnn.history['acc'])\n",
        "plt.plot(history_cnn.history['val_acc'])\n",
        "plt.title('model accuracy')\n",
        "plt.ylabel('accuracy')\n",
        "plt.xlabel('epoch')\n",
        "plt.legend(['train', 'val'], loc='upper left')\n",
        "plt.show()"
      ],
      "metadata": {
        "colab": {
          "base_uri": "https://localhost:8080/",
          "height": 295
        },
        "id": "5O8N1VQ6u5ut",
        "outputId": "31c7014e-fef9-48c1-d2fc-50f35b868157"
      },
      "execution_count": null,
      "outputs": [
        {
          "output_type": "display_data",
          "data": {
            "image/png": "[encoded data removed]",
            "text/plain": [
              "<Figure size 432x288 with 1 Axes>"
            ]
          },
          "metadata": {
            "needs_background": "light"
          }
        }
      ]
    },
    {
      "cell_type": "code",
      "source": [
        "plt.plot(history_cnn.history['loss'])\n",
        "plt.plot(history_cnn.history['val_loss'])\n",
        "plt.title('model loss')\n",
        "plt.ylabel('loss')\n",
        "plt.xlabel('epoch')\n",
        "plt.legend(['train', 'val'], loc='upper left')\n",
        "plt.show()\n"
      ],
      "metadata": {
        "colab": {
          "base_uri": "https://localhost:8080/",
          "height": 295
        },
        "id": "WA36-aRlu-0c",
        "outputId": "1c54f824-19cc-40c1-9a72-0df6e372dd1f"
      },
      "execution_count": null,
      "outputs": [
        {
          "output_type": "display_data",
          "data": {
            "image/png": "[encoded data removed]",
            "text/plain": [
              "<Figure size 432x288 with 1 Axes>"
            ]
          },
          "metadata": {
            "needs_background": "light"
          }
        }
      ]
    },
    {
      "cell_type": "code",
      "source": [
        "# Сверточная нейросеть\n",
        "best_cnn = Sequential()\n",
        "\n",
        "# best_cnn.add(Conv2D(1, (16, 5), input_shape=input_size, activation='relu'))\n",
        "# #...\n",
        "# best_cnn.add(MaxPooling2D(pool_size = 2, strides = 2))\n",
        "# # best_cnn.add(Dropout(0.4))\n",
        "# best_cnn.add(Conv2D(filters = 32, kernel_size = 5, strides = 1, activation = 'relu'))\n",
        "# best_cnn.add(MaxPooling2D(pool_size = 2, strides = 2))\n",
        "# best_cnn.add(Flatten())\n",
        "# #...\n",
        "# best_cnn.add(Dense(256, activation='relu'))\n",
        "# best_cnn.add(Dense(10, activation='softmax')\n",
        "\n",
        "\n",
        "best_cnn.add(Conv2D(64, (3, 3), padding='same', activation='relu', input_shape=(28, 28, 1)))\n",
        "best_cnn.add(MaxPooling2D((2, 2)))\n",
        "\n",
        "best_cnn.add(Flatten())\n",
        "\n",
        "best_cnn.add(Dense(128, activation='relu'))\n",
        "best_cnn.add(Dropout(0.4))\n",
        "best_cnn.add(Dense(10, activation='softmax'))\n",
        "\n",
        "\n",
        "best_cnn.compile(loss='categorical_crossentropy',\n",
        "                  optimizer = 'nadam',\n",
        "                  metrics = ['accuracy'])"
      ],
      "metadata": {
        "id": "IhEtAmMVCGEd"
      },
      "execution_count": null,
      "outputs": []
    },
    {
      "cell_type": "code",
      "source": [
        "best_cnn.summary()"
      ],
      "metadata": {
        "colab": {
          "base_uri": "https://localhost:8080/"
        },
        "id": "LTers1jsDKwJ",
        "outputId": "635d02a7-023a-40ca-c794-a8b9a82d06c7"
      },
      "execution_count": null,
      "outputs": [
        {
          "output_type": "stream",
          "name": "stdout",
          "text": [
            "Model: \"sequential_9\"\n",
            "_________________________________________________________________\n",
            " Layer (type)                Output Shape              Param #   \n",
            "=================================================================\n",
            " conv2d_2 (Conv2D)           (None, 28, 28, 64)        640       \n",
            "                                                                 \n",
            " max_pooling2d_2 (MaxPooling  (None, 14, 14, 64)       0         \n",
            " 2D)                                                             \n",
            "                                                                 \n",
            " flatten_9 (Flatten)         (None, 12544)             0         \n",
            "                                                                 \n",
            " dense_30 (Dense)            (None, 128)               1605760   \n",
            "                                                                 \n",
            " dropout_10 (Dropout)        (None, 128)               0         \n",
            "                                                                 \n",
            " dense_31 (Dense)            (None, 10)                1290      \n",
            "                                                                 \n",
            "=================================================================\n",
            "Total params: 1,607,690\n",
            "Trainable params: 1,607,690\n",
            "Non-trainable params: 0\n",
            "_________________________________________________________________\n"
          ]
        }
      ]
    },
    {
      "cell_type": "code",
      "source": [
        "history_cnn = best_cnn.fit(X_train, y_train,\n",
        "      batch_size=32 ,#например, 128\n",
        "      epochs=10,#например, 12\n",
        "      validation_data=(X_test, y_test)) "
      ],
      "metadata": {
        "colab": {
          "base_uri": "https://localhost:8080/"
        },
        "id": "uoZgZgzWCqN2",
        "outputId": "4c00a79f-3abe-41bc-d503-38a6b406dd0d"
      },
      "execution_count": null,
      "outputs": [
        {
          "output_type": "stream",
          "name": "stdout",
          "text": [
            "Train on 60000 samples, validate on 10000 samples\n",
            "Epoch 1/10\n",
            "60000/60000 [==============================] - 18s 306us/sample - loss: 0.4373 - acc: 0.8421 - val_loss: 0.3149 - val_acc: 0.8857\n",
            "Epoch 2/10\n",
            "60000/60000 [==============================] - 18s 297us/sample - loss: 0.3070 - acc: 0.8897 - val_loss: 0.2782 - val_acc: 0.8933\n",
            "Epoch 3/10\n",
            "60000/60000 [==============================] - 18s 294us/sample - loss: 0.2666 - acc: 0.9033 - val_loss: 0.2665 - val_acc: 0.9049\n",
            "Epoch 4/10\n",
            "60000/60000 [==============================] - 17s 291us/sample - loss: 0.2413 - acc: 0.9101 - val_loss: 0.2596 - val_acc: 0.9076\n",
            "Epoch 5/10\n",
            "60000/60000 [==============================] - 18s 292us/sample - loss: 0.2215 - acc: 0.9183 - val_loss: 0.2463 - val_acc: 0.9119\n",
            "Epoch 6/10\n",
            "60000/60000 [==============================] - 18s 293us/sample - loss: 0.2018 - acc: 0.9246 - val_loss: 0.2488 - val_acc: 0.9112\n",
            "Epoch 7/10\n",
            "60000/60000 [==============================] - 18s 294us/sample - loss: 0.1872 - acc: 0.9298 - val_loss: 0.2398 - val_acc: 0.9178\n",
            "Epoch 8/10\n",
            "60000/60000 [==============================] - 18s 293us/sample - loss: 0.1717 - acc: 0.9357 - val_loss: 0.2546 - val_acc: 0.9158\n",
            "Epoch 9/10\n",
            "60000/60000 [==============================] - 17s 289us/sample - loss: 0.1606 - acc: 0.9385 - val_loss: 0.2476 - val_acc: 0.9191\n",
            "Epoch 10/10\n",
            "60000/60000 [==============================] - 17s 289us/sample - loss: 0.1491 - acc: 0.9429 - val_loss: 0.2696 - val_acc: 0.9191\n"
          ]
        }
      ]
    },
    {
      "cell_type": "code",
      "source": [
        "best_cnn.evaluate(X_test, y_test)"
      ],
      "metadata": {
        "colab": {
          "base_uri": "https://localhost:8080/"
        },
        "id": "z4BsRJYPqUCr",
        "outputId": "9aa84bc5-8ecb-4675-9f18-9391979c24a7"
      },
      "execution_count": null,
      "outputs": [
        {
          "output_type": "execute_result",
          "data": {
            "text/plain": [
              "[0.26955379804074764, 0.9191]"
            ]
          },
          "metadata": {},
          "execution_count": 73
        }
      ]
    },
    {
      "cell_type": "code",
      "source": [
        "plt.plot(history_cnn.history['acc'])\n",
        "plt.plot(history_cnn.history['val_acc'])\n",
        "plt.title('model accuracy')\n",
        "plt.ylabel('accuracy')\n",
        "plt.xlabel('epoch')\n",
        "plt.legend(['train', 'val'], loc='upper left')\n",
        "plt.show()"
      ],
      "metadata": {
        "colab": {
          "base_uri": "https://localhost:8080/",
          "height": 295
        },
        "id": "7cgXiI8RvCAd",
        "outputId": "b21b9a04-96f2-412a-9c97-cc4ed4187ed8"
      },
      "execution_count": null,
      "outputs": [
        {
          "output_type": "display_data",
          "data": {
            "image/png": "[encoded data removed]",
            "text/plain": [
              "<Figure size 432x288 with 1 Axes>"
            ]
          },
          "metadata": {
            "needs_background": "light"
          }
        }
      ]
    },
    {
      "cell_type": "code",
      "source": [
        "plt.plot(history_cnn.history['loss'])\n",
        "plt.plot(history_cnn.history['val_loss'])\n",
        "plt.title('model loss')\n",
        "plt.ylabel('loss')\n",
        "plt.xlabel('epoch')\n",
        "plt.legend(['train', 'val'], loc='upper left')\n",
        "plt.show()"
      ],
      "metadata": {
        "colab": {
          "base_uri": "https://localhost:8080/",
          "height": 295
        },
        "id": "checqzOfvCgo",
        "outputId": "96658bc1-09b0-4e46-dbf4-4eee9001cf0a"
      },
      "execution_count": null,
      "outputs": [
        {
          "output_type": "display_data",
          "data": {
            "image/png": "[encoded data removed]",
            "text/plain": [
              "<Figure size 432x288 with 1 Axes>"
            ]
          },
          "metadata": {
            "needs_background": "light"
          }
        }
      ]
    }
  ]
}