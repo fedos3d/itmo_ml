{
  "nbformat": 4,
  "nbformat_minor": 0,
  "metadata": {
    "colab": {
      "name": "Аникеев Ф.Н. М33031 Лаб3 3.1-3.4.ipynb",
      "provenance": [],
      "collapsed_sections": []
    },
    "kernelspec": {
      "display_name": "Python 3",
      "language": "python",
      "name": "python3"
    },
    "language_info": {
      "codemirror_mode": {
        "name": "ipython",
        "version": 3
      },
      "file_extension": ".py",
      "mimetype": "text/x-python",
      "name": "python",
      "nbconvert_exporter": "python",
      "pygments_lexer": "ipython3",
      "version": "3.7.4"
    }
  },
  "cells": [
    {
      "cell_type": "markdown",
      "metadata": {
        "id": "LkTpaRRWZNc3"
      },
      "source": [
        "# Линейная регрессия\n"
      ]
    },
    {
      "cell_type": "markdown",
      "metadata": {
        "id": "Ro-ttLpiZNdC"
      },
      "source": [
        "Линейные методы предполагают, что между признаками объекта и целевой переменной существует линейная зависимость, то есть:\n",
        "$$ \\hat{y} = w_1 x_1 + w_2 x_2 + ... + w_k x_k + b,$$\n",
        "где $\\hat{y}$ - целевая переменная (что мы хотим предсказать), $x_i$ - i-ый признак объекта $x$, $w_i$ - вес $i$-го признака, $b$ - bias (смещение, свободный член).\n",
        "\n",
        "В задаче линейной регрессии $\\hat{y}$ - это действительное число.\n",
        "\n",
        "Часто для упрощения записи вводят дополнительный фиктивный признак $x_0$, который всегда равен 1, тогда bias - вес этого признака. В этом случае формула может быть записана как скалярное произведение:\n",
        "$$ \\hat{y} = <w, x> $$\n",
        "\n",
        "В матричной форме формулу можно переписать следующим образом:\n",
        "$$ \\hat{y} = Xw,$$\n",
        "$\\hat{y}$ - вектор значений целевой переменной размера $n$, $X$ - матрица значений признаков объектов размера $n \\times k$, w - вектор весов размера $k$. То есть в наших данных имеется $n$ объектов, каждый их которых описан $k$ признаками.\n",
        "\n",
        "Таким образом, в матричной форме модель задаётся следующим образом:\n",
        "$$ y = Xw + \\epsilon$$ \n",
        "\n",
        "Важно отметить, что параметрами этой модели являются веса $w$. Когда говорят об обучении какого-либо алгоритма машинного обучения, как правило, имеют в виду настройку весов, т.е. параметров модели.  "
      ]
    },
    {
      "cell_type": "markdown",
      "metadata": {
        "id": "ixnX1G4yDVcG"
      },
      "source": [
        "На практике $\\hat{y} $ может отличается от реальных значений, которые принимает целевая переменная $y$. Разницу между реальным значением и предсказанным, обозначим как $\\epsilon$ - вектор значений случайной переменной, соответствующая случайной, непрогнозируемой ошибке модели. Ограничения, которые накладываются на эту модель:\n",
        "* математическое ожидание случайных ошибок $\\epsilon$ равно нулю,\n",
        "* дисперсия случайных ошибок одинакова и конечна,\n",
        "* случайные ошибки не скоррелированы."
      ]
    },
    {
      "cell_type": "markdown",
      "metadata": {
        "id": "HJyN9MkMDTod"
      },
      "source": [
        "Один из способов вычислить значения параметров модели, давно знаком - это наименьших квадратов, который минимизирует среднеквадратичную ошибку между реальным значением зависимой переменной и прогнозом, выданным моделью. Решение по методу наименьших квадратов дает:\n",
        "$$ w = (X^TX)^{-1}X^TY $$"
      ]
    },
    {
      "cell_type": "markdown",
      "metadata": {
        "id": "Y5HVNycSZNc5"
      },
      "source": [
        "Загрузим необходимые библиотеки"
      ]
    },
    {
      "cell_type": "code",
      "metadata": {
        "id": "Lrhz2sFvZNc7"
      },
      "source": [
        "import numpy as np\n",
        "import pandas as pd\n",
        "from matplotlib import pyplot as plt\n",
        "plt.style.use('ggplot')\n",
        "%matplotlib inline"
      ],
      "execution_count": null,
      "outputs": []
    },
    {
      "cell_type": "markdown",
      "metadata": {
        "id": "dFQqRj1lZNdg"
      },
      "source": [
        "## Оценка результатов\n",
        "\n",
        "Чтобы оценить качество работы алгоритма нам необходимо применяют разные метрики. Наиболее частые метрики средневадратичная и средняя абсолютная ошибки. Вычислим эти метрики на обучающей и на тестовой выборках. \n",
        "\n",
        " * *mean_absolute_error* - средняя абсолютная ошибка $|y_i - \\hat{y}_i|$\n",
        " * *mean_squared_error* - средняя квадратичная ошибка $(y_i - \\hat{y}_i)^2$"
      ]
    },
    {
      "cell_type": "markdown",
      "metadata": {
        "id": "2sEDF-oXRsVw"
      },
      "source": [
        "## Задание 3.1"
      ]
    },
    {
      "cell_type": "markdown",
      "metadata": {
        "id": "aStEfJYSZNdE"
      },
      "source": [
        "Пример 1. Сгенерируем искусственные данные. Сначала поработаем с простейшим одномерным случаем, когда у нас значение $y$ будет зависеть только от одного значения $x$.\n",
        "\n",
        "\n"
      ]
    },
    {
      "cell_type": "code",
      "metadata": {
        "id": "d3tzSTkrZNdF"
      },
      "source": [
        "def generate_data(n_points=20):\n",
        "  \"\"\"\n",
        "    Принимает на вход n_points точек \n",
        "    Возвращает данные для обучения и теста\n",
        "  \"\"\"\n",
        "  X = np.linspace(-5, 5, n_points)\n",
        "  y = 10 * X - 7\n",
        "\n",
        "  X_train = X[0::2].reshape(-1, 1)\n",
        "  y_train = y[0::2] + np.random.randn(int(n_points/2)) * 10\n",
        "\n",
        "  X_test = X[1::2].reshape(-1, 1)\n",
        "  y_test = y[1::2] + np.random.randn(int(n_points/2)) * 10\n",
        "\n",
        "  print(f'Generated {len(X_train)} train samples and {len(X_test)} test samples')\n",
        "  return X, X_train, y_train, X_test, y_test"
      ],
      "execution_count": null,
      "outputs": []
    },
    {
      "cell_type": "code",
      "metadata": {
        "id": "bnYHO2TjZNdJ",
        "colab": {
          "base_uri": "https://localhost:8080/"
        },
        "outputId": "1360f31d-f590-4585-e6d1-32acedea44e4"
      },
      "source": [
        "X, X_train, y_train, X_test, y_test = generate_data(100)\n",
        "print(\"X: \", X)\n",
        "print(\"X_train: \", X_train)\n",
        "print(\"y_train: \", y_train)\n",
        "print(\"X_test: \", X_test)\n",
        "print(\"y_test\", y_test)"
      ],
      "execution_count": null,
      "outputs": [
        {
          "output_type": "stream",
          "name": "stdout",
          "text": [
            "Generated 50 train samples and 50 test samples\n",
            "X:  [-5.         -4.8989899  -4.7979798  -4.6969697  -4.5959596  -4.49494949\n",
            " -4.39393939 -4.29292929 -4.19191919 -4.09090909 -3.98989899 -3.88888889\n",
            " -3.78787879 -3.68686869 -3.58585859 -3.48484848 -3.38383838 -3.28282828\n",
            " -3.18181818 -3.08080808 -2.97979798 -2.87878788 -2.77777778 -2.67676768\n",
            " -2.57575758 -2.47474747 -2.37373737 -2.27272727 -2.17171717 -2.07070707\n",
            " -1.96969697 -1.86868687 -1.76767677 -1.66666667 -1.56565657 -1.46464646\n",
            " -1.36363636 -1.26262626 -1.16161616 -1.06060606 -0.95959596 -0.85858586\n",
            " -0.75757576 -0.65656566 -0.55555556 -0.45454545 -0.35353535 -0.25252525\n",
            " -0.15151515 -0.05050505  0.05050505  0.15151515  0.25252525  0.35353535\n",
            "  0.45454545  0.55555556  0.65656566  0.75757576  0.85858586  0.95959596\n",
            "  1.06060606  1.16161616  1.26262626  1.36363636  1.46464646  1.56565657\n",
            "  1.66666667  1.76767677  1.86868687  1.96969697  2.07070707  2.17171717\n",
            "  2.27272727  2.37373737  2.47474747  2.57575758  2.67676768  2.77777778\n",
            "  2.87878788  2.97979798  3.08080808  3.18181818  3.28282828  3.38383838\n",
            "  3.48484848  3.58585859  3.68686869  3.78787879  3.88888889  3.98989899\n",
            "  4.09090909  4.19191919  4.29292929  4.39393939  4.49494949  4.5959596\n",
            "  4.6969697   4.7979798   4.8989899   5.        ]\n",
            "X_train:  [[-5.        ]\n",
            " [-4.7979798 ]\n",
            " [-4.5959596 ]\n",
            " [-4.39393939]\n",
            " [-4.19191919]\n",
            " [-3.98989899]\n",
            " [-3.78787879]\n",
            " [-3.58585859]\n",
            " [-3.38383838]\n",
            " [-3.18181818]\n",
            " [-2.97979798]\n",
            " [-2.77777778]\n",
            " [-2.57575758]\n",
            " [-2.37373737]\n",
            " [-2.17171717]\n",
            " [-1.96969697]\n",
            " [-1.76767677]\n",
            " [-1.56565657]\n",
            " [-1.36363636]\n",
            " [-1.16161616]\n",
            " [-0.95959596]\n",
            " [-0.75757576]\n",
            " [-0.55555556]\n",
            " [-0.35353535]\n",
            " [-0.15151515]\n",
            " [ 0.05050505]\n",
            " [ 0.25252525]\n",
            " [ 0.45454545]\n",
            " [ 0.65656566]\n",
            " [ 0.85858586]\n",
            " [ 1.06060606]\n",
            " [ 1.26262626]\n",
            " [ 1.46464646]\n",
            " [ 1.66666667]\n",
            " [ 1.86868687]\n",
            " [ 2.07070707]\n",
            " [ 2.27272727]\n",
            " [ 2.47474747]\n",
            " [ 2.67676768]\n",
            " [ 2.87878788]\n",
            " [ 3.08080808]\n",
            " [ 3.28282828]\n",
            " [ 3.48484848]\n",
            " [ 3.68686869]\n",
            " [ 3.88888889]\n",
            " [ 4.09090909]\n",
            " [ 4.29292929]\n",
            " [ 4.49494949]\n",
            " [ 4.6969697 ]\n",
            " [ 4.8989899 ]]\n",
            "y_train:  [-71.54860208 -63.13091256 -71.58794554 -67.16227419 -31.4883455\n",
            " -42.65387404 -46.15142959 -45.29416189 -55.26613417 -35.38939947\n",
            " -36.54137925 -34.10575225 -40.92718682 -32.12698084 -20.15467158\n",
            " -19.04156415 -22.65882273 -24.37763206  -0.62034119   1.34404136\n",
            "  -2.58580883 -35.94390487 -28.30796156  -6.98125759  -2.48137981\n",
            "  -3.50324635   8.1862944   -6.54954884  -2.53318663   2.8729671\n",
            "   0.90064141  11.47009783  15.04911711  15.7646209    3.71043808\n",
            "   9.17011243  29.07826793   1.78802614  13.4982959   24.52754451\n",
            "  21.45749949  27.52275513  39.53043256  36.70112961  35.691733\n",
            "  31.83217801  33.8800398   36.73895582  53.21119885  55.71294515]\n",
            "X_test:  [[-4.8989899 ]\n",
            " [-4.6969697 ]\n",
            " [-4.49494949]\n",
            " [-4.29292929]\n",
            " [-4.09090909]\n",
            " [-3.88888889]\n",
            " [-3.68686869]\n",
            " [-3.48484848]\n",
            " [-3.28282828]\n",
            " [-3.08080808]\n",
            " [-2.87878788]\n",
            " [-2.67676768]\n",
            " [-2.47474747]\n",
            " [-2.27272727]\n",
            " [-2.07070707]\n",
            " [-1.86868687]\n",
            " [-1.66666667]\n",
            " [-1.46464646]\n",
            " [-1.26262626]\n",
            " [-1.06060606]\n",
            " [-0.85858586]\n",
            " [-0.65656566]\n",
            " [-0.45454545]\n",
            " [-0.25252525]\n",
            " [-0.05050505]\n",
            " [ 0.15151515]\n",
            " [ 0.35353535]\n",
            " [ 0.55555556]\n",
            " [ 0.75757576]\n",
            " [ 0.95959596]\n",
            " [ 1.16161616]\n",
            " [ 1.36363636]\n",
            " [ 1.56565657]\n",
            " [ 1.76767677]\n",
            " [ 1.96969697]\n",
            " [ 2.17171717]\n",
            " [ 2.37373737]\n",
            " [ 2.57575758]\n",
            " [ 2.77777778]\n",
            " [ 2.97979798]\n",
            " [ 3.18181818]\n",
            " [ 3.38383838]\n",
            " [ 3.58585859]\n",
            " [ 3.78787879]\n",
            " [ 3.98989899]\n",
            " [ 4.19191919]\n",
            " [ 4.39393939]\n",
            " [ 4.5959596 ]\n",
            " [ 4.7979798 ]\n",
            " [ 5.        ]]\n",
            "y_test [-4.92027992e+01 -5.69139469e+01 -5.51558343e+01 -3.91840414e+01\n",
            " -5.76553485e+01 -4.20444725e+01 -4.99207656e+01 -5.42756173e+01\n",
            " -4.13021608e+01 -4.13310374e+01 -3.53523784e+01 -2.81532728e+01\n",
            " -1.21000313e+01 -3.37695683e+01 -4.28387636e+01 -2.93973128e+01\n",
            " -2.10444762e+01 -2.39915810e+01 -3.47504519e+01 -2.56545624e+01\n",
            " -1.07758089e+01 -4.86365894e+00 -8.43897986e-01 -2.23801230e+01\n",
            "  2.12670466e-01 -2.48202055e+01  1.55501302e+01  5.68883825e-02\n",
            " -9.35796040e-01 -4.02293733e+00 -3.17078364e+00 -1.71184105e+00\n",
            "  1.63801444e+01  5.50517476e+00  1.61235919e+01  2.28224470e+01\n",
            "  2.18287491e+01  3.87365798e+01  1.03913754e+01  2.34082239e+01\n",
            "  3.46237531e+01  2.68202912e+01  3.51605662e+01  4.04693847e+01\n",
            "  4.08439652e+01  4.04169557e+01  3.91646074e+01  1.28584485e+01\n",
            "  3.60428904e+01  4.91688183e+01]\n"
          ]
        }
      ]
    },
    {
      "cell_type": "code",
      "metadata": {
        "id": "q0l76cbaKzYg"
      },
      "source": [
        "### Реализуйте настройку w и b с помощью рассмотренного выше метода наименьших квадратов.\n",
        "### Найдите значения метрик MSE и MAE. Сравните с результатами из sklearn"
      ],
      "execution_count": null,
      "outputs": []
    },
    {
      "cell_type": "code",
      "metadata": {
        "pycharm": {
          "name": "#%%\n"
        },
        "colab": {
          "base_uri": "https://localhost:8080/"
        },
        "id": "4Uy-IYuUHGoi",
        "outputId": "c61fbdec-6c5c-49e4-ac1a-2abb033c9c04"
      },
      "source": [
        "x_train_with_bias = np.hstack((X_train, np.ones((X_train.shape[0], 1)))) # still did not get\n",
        "res = np.linalg.inv(x_train_with_bias.T.dot(x_train_with_bias)).dot(x_train_with_bias.T).dot(y_train)\n",
        "w = res[0]\n",
        "b = res[1]\n",
        "target_y = w * X_test + b\n",
        "\n",
        "print(\"w:\", w, \"b: \", b)\n",
        "MAE = np.abs(y_test - target_y).sum()\n",
        "MSE = ((y_test - target_y) ** 2).sum()\n",
        "print('MAE: ', MAE)\n",
        "print('MSE: ', MSE)"
      ],
      "execution_count": null,
      "outputs": [
        {
          "output_type": "stream",
          "name": "stdout",
          "text": [
            "w: 10.819150360192522 b:  -6.243065702387478\n",
            "MAE:  91084.15815537277\n",
            "MSE:  4977716.300993761\n"
          ]
        }
      ]
    },
    {
      "cell_type": "code",
      "metadata": {
        "pycharm": {
          "name": "#%%\n"
        },
        "colab": {
          "base_uri": "https://localhost:8080/"
        },
        "id": "DQLaH1ufHGoi",
        "outputId": "bb3e3dc9-eca5-498f-dded-0f799571eaec"
      },
      "source": [
        "from sklearn.metrics import mean_squared_error as mse, mean_absolute_error as mae\n",
        "sk_MAE = mae(y_test, target_y)\n",
        "sk_MSE = mse(y_test, target_y)\n",
        "print('sklearn.metrics MAE: ', sk_MAE)\n",
        "print('sklearn.metrics MSE: ', sk_MSE)\n",
        "print(\"diff between MAE and sk_MAE: \", np.abs(sk_MAE - MAE))\n",
        "print(\"diff between MSE and sk_MSE: \", np.abs(sk_MSE - MSE))"
      ],
      "execution_count": null,
      "outputs": [
        {
          "output_type": "stream",
          "name": "stdout",
          "text": [
            "sklearn.metrics MAE:  7.347405240139101\n",
            "sklearn.metrics MSE:  93.7673768367547\n",
            "diff between MAE and sk_MAE:  91076.81075013263\n",
            "diff between MSE and sk_MSE:  4977622.533616925\n"
          ]
        }
      ]
    },
    {
      "cell_type": "code",
      "metadata": {
        "pycharm": {
          "name": "#%%\n"
        },
        "colab": {
          "base_uri": "https://localhost:8080/",
          "height": 285
        },
        "id": "qS27WEahHGoj",
        "outputId": "f99e4ef1-4b11-4948-9a7d-93e7f247e0c1"
      },
      "source": [
        "x = np.linspace(X_train.min(), X_train.max(), 1000)\n",
        "plt.plot(X_train, y_train)\n",
        "plt.plot(x, w * x + b)"
      ],
      "execution_count": null,
      "outputs": [
        {
          "output_type": "execute_result",
          "data": {
            "text/plain": [
              "[<matplotlib.lines.Line2D at 0x7fc21a8b6610>]"
            ]
          },
          "metadata": {},
          "execution_count": 175
        },
        {
          "output_type": "display_data",
          "data": {
            "image/png": "[encoded data removed]",
            "text/plain": [
              "<Figure size 432x288 with 1 Axes>"
            ]
          },
          "metadata": {
            "needs_background": "light"
          }
        }
      ]
    },
    {
      "cell_type": "markdown",
      "metadata": {
        "id": "luGJoQXHRzu7"
      },
      "source": [
        "## Задание 3.2"
      ]
    },
    {
      "cell_type": "markdown",
      "metadata": {
        "id": "KKKQZDzWMv-j"
      },
      "source": [
        "Пример 2. Не всегда в задаче регрессии в качестве решения выступает прямая, как в предыдущем случае. Рассмотрим ещё один пример, в котором у объектов всё ещё один признак. Но теперь мы будм брать случайную точку на синусоиде и добавлять к ней шум — таким образом получим целевую переменную, признаком в этом случае будет координата $x$."
      ]
    },
    {
      "cell_type": "code",
      "metadata": {
        "id": "aULennJThZxH"
      },
      "source": [
        "def generate_wave_set(n_support=1000, n_train=25, std=0.3):\n",
        "    data = {}\n",
        "    # выберем некоторое количество точек из промежутка от 0 до 2*pi\n",
        "    data['support'] = np.linspace(0, 2*np.pi, num=n_support)\n",
        "    # для каждой посчитаем значение sin(x) + 1\n",
        "    # это будет ground truth\n",
        "    data['values'] = np.sin(data['support']) + 1\n",
        "    # из support посемплируем некоторое количество точек с возвратом, это будут признаки\n",
        "    data['x_train'] = np.sort(np.random.choice(data['support'], size=n_train, replace=True))\n",
        "    # опять посчитаем sin(x) + 1 и добавим шум, получим целевую переменную\n",
        "    data['y_train'] = np.sin(data['x_train']) + 1 + np.random.normal(0, std, size=data['x_train'].shape[0])\n",
        "\n",
        "    # added custom labels:\n",
        "    data['x_test'] = np.sort(np.random.choice(data['support'], size=n_support-n_train, replace=True))\n",
        "    data['y_test'] = np.sin(data['x_test']) + 1\n",
        "    return data\n",
        "\n",
        "data = generate_wave_set(1000, 250)"
      ],
      "execution_count": null,
      "outputs": []
    },
    {
      "cell_type": "code",
      "metadata": {
        "id": "3CBnODv1QYn_"
      },
      "source": [
        "### попробуйте реализовать настройку w и b с помощью рассмотренного выше метода наименьших квадратов.\n",
        "### Найдите значения метрик MSE и MAE"
      ],
      "execution_count": null,
      "outputs": []
    },
    {
      "cell_type": "code",
      "metadata": {
        "pycharm": {
          "name": "#%%\n"
        },
        "id": "beVm5yY3HGon"
      },
      "source": [
        "x_train_with_bias = np.hstack((data['x_train'].reshape((data['x_train'].shape[0],1)), np.ones((data['x_train'].shape[0],1))))\n",
        "res = np.linalg.inv(x_train_with_bias.T.dot(x_train_with_bias)).dot(x_train_with_bias.T).dot(data['y_train'])\n",
        "w = res[0]\n",
        "b = res[1]\n",
        "target_y = w * data['x_test'] + b"
      ],
      "execution_count": null,
      "outputs": []
    },
    {
      "cell_type": "code",
      "metadata": {
        "pycharm": {
          "name": "#%%\n"
        },
        "colab": {
          "base_uri": "https://localhost:8080/"
        },
        "id": "yI8iFcH_HGon",
        "outputId": "65b2c012-8932-4636-9984-d855016035ef"
      },
      "source": [
        "print('MAE: ', mae(data['y_test'], target_y))\n",
        "print('MSE: ', mse(data['y_test'], target_y))"
      ],
      "execution_count": null,
      "outputs": [
        {
          "output_type": "stream",
          "name": "stdout",
          "text": [
            "MAE:  0.40428353517343507\n",
            "MSE:  0.20383706115426573\n"
          ]
        }
      ]
    },
    {
      "cell_type": "code",
      "metadata": {
        "pycharm": {
          "name": "#%%\n"
        },
        "colab": {
          "base_uri": "https://localhost:8080/",
          "height": 284
        },
        "id": "HIAWxhjSHGoo",
        "outputId": "08ad2ae5-b61f-4287-968f-39197b28b351"
      },
      "source": [
        "x = np.linspace(data['x_train'].min(), data['x_train'].max(), 1000)\n",
        "plt.plot(data['x_train'], data['y_train'])\n",
        "plt.plot(x, w * x + b)"
      ],
      "execution_count": null,
      "outputs": [
        {
          "output_type": "execute_result",
          "data": {
            "text/plain": [
              "[<matplotlib.lines.Line2D at 0x7fc21a8a1c10>]"
            ]
          },
          "metadata": {},
          "execution_count": 180
        },
        {
          "output_type": "display_data",
          "data": {
            "image/png": "[encoded data removed]",
            "text/plain": [
              "<Figure size 432x288 with 1 Axes>"
            ]
          },
          "metadata": {
            "needs_background": "light"
          }
        }
      ]
    },
    {
      "cell_type": "markdown",
      "metadata": {
        "id": "o9iBgsGVQyOD"
      },
      "source": [
        "Конечно, такое решение нас вряд ли может устроить. Нужно применить полинимиальную регрессию. Идея здесь такая. Каждый признак в исходную формулу может входить не только в первой степени, но и во второй, в третьей и так далее. То есть для случая, когда у нас только один признак:\n",
        "$$ \\hat{y} = w_1 x_1 + w_2 x_1^2 + ... + w_k x_1^k + b,$$ "
      ]
    },
    {
      "cell_type": "markdown",
      "metadata": {
        "id": "95m0fULWR4m5"
      },
      "source": [
        "## Задание 3.3"
      ]
    },
    {
      "cell_type": "code",
      "metadata": {
        "id": "eyzS3rlzSuDU"
      },
      "source": [
        "from sklearn.preprocessing import PolynomialFeatures\n",
        "polynom = PolynomialFeatures(5, include_bias=True)\n",
        "reshaped_train = data['x_train'].reshape(data['x_train'].shape[0], 1)\n",
        "reshaped_test = data['x_test'].reshape(data['x_test'].shape[0], 1)\n",
        "polynom.fit(reshaped_train)\n",
        "features = polynom.transform(reshaped_train)"
      ],
      "execution_count": null,
      "outputs": []
    },
    {
      "cell_type": "code",
      "metadata": {
        "pycharm": {
          "name": "#%%\n"
        },
        "id": "Enmb8vMpHGop"
      },
      "source": [
        "params = np.linalg.inv(features.T.dot(features)).dot(features.T).dot(data['y_train'])\n",
        "\n",
        "test_features = polynom.transform(reshaped_test)\n",
        "target_y = test_features.dot(params)"
      ],
      "execution_count": null,
      "outputs": []
    },
    {
      "cell_type": "code",
      "metadata": {
        "pycharm": {
          "name": "#%%\n"
        },
        "id": "6d1f8q2BHGop"
      },
      "source": [
        "### Реализуйте полиномиальную регрессию. Сделайте визуализацию для полиномов разных степеней. \n",
        "### Полином какой степени подходит больше других? Почему?"
      ],
      "execution_count": null,
      "outputs": []
    },
    {
      "cell_type": "code",
      "metadata": {
        "pycharm": {
          "name": "#%%\n"
        },
        "colab": {
          "base_uri": "https://localhost:8080/"
        },
        "id": "8_fL9-7hHGop",
        "outputId": "2842ea80-0494-42ea-ed14-6cde7e1d1e0b"
      },
      "source": [
        "print('MAE: ', mae(reshaped_test, target_y))\n",
        "print('MSE: ', mse(reshaped_test, target_y))"
      ],
      "execution_count": null,
      "outputs": [
        {
          "output_type": "stream",
          "name": "stdout",
          "text": [
            "MAE:  2.5012663890000626\n",
            "MSE:  9.789287633114329\n"
          ]
        }
      ]
    },
    {
      "cell_type": "code",
      "metadata": {
        "pycharm": {
          "name": "#%%\n"
        },
        "id": "RfJaosErHGop"
      },
      "source": [
        "class CustomModel:\n",
        "  def fit(self, X, y):\n",
        "    self.params = np.linalg.inv(X.T.dot(X)).dot(X.T).dot(y)\n",
        "  def predict(self, X):\n",
        "    return X.dot(self.params)"
      ],
      "execution_count": null,
      "outputs": []
    },
    {
      "cell_type": "code",
      "metadata": {
        "pycharm": {
          "name": "#%%\n"
        },
        "colab": {
          "base_uri": "https://localhost:8080/",
          "height": 401
        },
        "id": "WNfR2-DZHGoq",
        "outputId": "ba399eb2-3689-44cc-91d2-d8324567d9cf"
      },
      "source": [
        "# Это же ваще капец:\n",
        "import numpy as np\n",
        "import matplotlib.pyplot as plt\n",
        "from sklearn.preprocessing import PolynomialFeatures\n",
        "from sklearn.pipeline import make_pipeline\n",
        "\n",
        "#our function\n",
        "def f(x):\n",
        "    return np.sin(x) + 1\n",
        "x_plot = data['support']\n",
        "y_true = data['y_test']\n",
        "x = data['x_train']\n",
        "y = data['y_train']\n",
        "\n",
        "X = x.reshape(x.shape[0], 1)\n",
        "X_plot = x_plot.reshape(x_plot.shape[0], 1)\n",
        "\n",
        "plt.plot(x_plot, f(x_plot), color='black', label=\"ground truth\")\n",
        "plt.scatter(x, y, s=10, marker='o', label=\"training points\")\n",
        "for power in ([1, 2, 5, 7, 10, 13]):\n",
        "    model = make_pipeline(PolynomialFeatures(power), CustomModel())\n",
        "    model.fit(X, y)\n",
        "    y_plot = model.predict(X_plot)\n",
        "    target_y = model.predict(data['x_test'].reshape(-1, 1))\n",
        "    curlabel = \"in power of \" + str(power)\n",
        "    plt.plot(x_plot, y_plot, label=curlabel)\n",
        "    print('mse for power: ', power, \" = \" , mse(y_true, target_y))\n",
        "plt.legend()"
      ],
      "execution_count": null,
      "outputs": [
        {
          "output_type": "stream",
          "name": "stdout",
          "text": [
            "mse for power:  1  =  0.20383706115426564\n",
            "mse for power:  2  =  0.20641656445817205\n",
            "mse for power:  5  =  0.0030546906069681564\n",
            "mse for power:  7  =  0.0030892329830531024\n",
            "mse for power:  10  =  0.004038470230346196\n",
            "mse for power:  13  =  0.13891567952796932\n"
          ]
        },
        {
          "output_type": "execute_result",
          "data": {
            "text/plain": [
              "<matplotlib.legend.Legend at 0x7fc21a82ba10>"
            ]
          },
          "metadata": {},
          "execution_count": 186
        },
        {
          "output_type": "display_data",
          "data": {
            "image/png": "[encoded data removed]",
            "text/plain": [
              "<Figure size 432x288 with 1 Axes>"
            ]
          },
          "metadata": {
            "needs_background": "light"
          }
        }
      ]
    },
    {
      "cell_type": "code",
      "metadata": {
        "pycharm": {
          "name": "#%%\n"
        },
        "id": "GmB-Fb-4HGoq"
      },
      "source": [
        "# Вывод: 5 степень лучше всего подходит, так как ошибка меньше"
      ],
      "execution_count": null,
      "outputs": []
    },
    {
      "cell_type": "markdown",
      "metadata": {
        "id": "feMIFS82ZNdn"
      },
      "source": [
        "# Реальный датасет"
      ]
    },
    {
      "cell_type": "markdown",
      "metadata": {
        "id": "_NVLc80wZNdn"
      },
      "source": [
        "Возьмём реальный набор данных Boston из sklearn.datasets. Этот датасет описывает средние цены на недвижимость в районах Бостона в тысячах долларов.\n",
        "\n",
        "Примеры признаков объектов недвижимости: количество преступлений на душу населения, процент старых домов в районе, количество учеников на одного учителя и т.д. Обратите внимание на то, что данные уже оцифрованы там, где изначально признаки были качественными."
      ]
    },
    {
      "cell_type": "markdown",
      "metadata": {
        "id": "yMC-plFGZNdo"
      },
      "source": [
        "Загрузим датасет, выведем информацию"
      ]
    },
    {
      "cell_type": "code",
      "metadata": {
        "id": "ZN6sApHcZNdo"
      },
      "source": [
        "from sklearn.datasets import load_boston\n"
      ],
      "execution_count": null,
      "outputs": []
    },
    {
      "cell_type": "code",
      "metadata": {
        "id": "YBgnP7HcZNdq"
      },
      "source": [
        "house_data = load_boston()\n",
        "X = house_data['data']\n",
        "y = house_data['target']\n",
        "from sklearn.model_selection import train_test_split\n",
        "\n",
        "X_train, X_test, y_train, y_test = train_test_split(X, y, test_size=0.3)"
      ],
      "execution_count": null,
      "outputs": []
    },
    {
      "cell_type": "markdown",
      "metadata": {
        "id": "kjL3jxlqgHWs"
      },
      "source": [
        "## Задание 3.4"
      ]
    },
    {
      "cell_type": "code",
      "metadata": {
        "id": "PbTQGLKagJN5",
        "pycharm": {
          "name": "#%%\n"
        },
        "colab": {
          "base_uri": "https://localhost:8080/"
        },
        "outputId": "67ab7714-ec13-41b3-e04d-a17b034e897b"
      },
      "source": [
        "model = CustomModel()\n",
        "model.fit(X_train, y_train)\n",
        "print('MAE: ', mae(y_test, model.predict(X_test)))\n",
        "print('MSE: ', mse(y_test, model.predict(X_test)))"
      ],
      "execution_count": null,
      "outputs": [
        {
          "output_type": "stream",
          "name": "stdout",
          "text": [
            "MAE:  3.1939735062508547\n",
            "MSE:  18.93756358559667\n"
          ]
        }
      ]
    },
    {
      "cell_type": "code",
      "metadata": {
        "pycharm": {
          "name": "#%%\n"
        },
        "id": "_l2XfOsoHGot"
      },
      "source": [
        "### оставьте в наборе данных только 7 наиболее значимых признаков"
      ],
      "execution_count": null,
      "outputs": []
    },
    {
      "cell_type": "code",
      "metadata": {
        "pycharm": {
          "name": "#%%\n"
        },
        "colab": {
          "base_uri": "https://localhost:8080/"
        },
        "id": "AuHlVCVWHGot",
        "outputId": "ef4f8504-9e3d-4511-bc7a-934f557b826d"
      },
      "source": [
        "dict1 = {}\n",
        "print(model.params)\n",
        "for i in range(len(model.params)):\n",
        "    dict1[i] = model.params[i]\n",
        "sorted_values = sorted(dict1.values()) # Sort the values\n",
        "sorted_dict = {}\n",
        "for i in sorted_values:\n",
        "    for k in dict1.keys():\n",
        "        if dict1[k] == i:\n",
        "            sorted_dict[k] = dict1[k]\n",
        "            break\n",
        "main_indexes = list(sorted_dict.keys())[-7:]\n",
        "model.fit(X_train[:, main_indexes], y_train)\n",
        "print('MAE: ', mae(y_test, model.predict(X_test[:, main_indexes])))\n",
        "print('MSE: ', mse(y_test, model.predict(X_test[:, main_indexes])))"
      ],
      "execution_count": null,
      "outputs": [
        {
          "output_type": "stream",
          "name": "stdout",
          "text": [
            "[-4.19553697e-02  6.03936577e-02  2.39940311e-03  2.81720127e+00\n",
            " -2.63244016e+00  5.86408756e+00 -1.70329409e-02 -1.32532407e+00\n",
            "  1.94190255e-01 -9.89874907e-03 -2.99332596e-01  1.78519805e-02\n",
            " -4.67872370e-01]\n",
            "MAE:  4.112087453391331\n",
            "MSE:  27.07573209726451\n"
          ]
        }
      ]
    }
  ]
}