{
  "nbformat": 4,
  "nbformat_minor": 0,
  "metadata": {
    "colab": {
      "name": "Аникеев Ф.Н. М33031 7.1 pytorch tasks.ipynb",
      "provenance": []
    },
    "kernelspec": {
      "display_name": "Python 3",
      "language": "python",
      "name": "python3"
    },
    "language_info": {
      "codemirror_mode": {
        "name": "ipython",
        "version": 3
      },
      "file_extension": ".py",
      "mimetype": "text/x-python",
      "name": "python",
      "nbconvert_exporter": "python",
      "pygments_lexer": "ipython3",
      "version": "3.6.5"
    },
    "accelerator": "GPU"
  },
  "cells": [
    {
      "cell_type": "markdown",
      "metadata": {
        "id": "vcnGdgw_YJ8u"
      },
      "source": [
        "# PyTorch. Основы: синтаксис, torch.cuda и torch.autograd\n",
        "\n",
        "## Задание 7.1"
      ]
    },
    {
      "cell_type": "code",
      "metadata": {
        "id": "RtyozNmmYJ89"
      },
      "source": [
        "import torch\n",
        "import matplotlib.pyplot as plt"
      ],
      "execution_count": null,
      "outputs": []
    },
    {
      "cell_type": "markdown",
      "metadata": {
        "id": "ny4-Qi2wYJ-6"
      },
      "source": [
        "### Задача 1"
      ]
    },
    {
      "cell_type": "markdown",
      "metadata": {
        "id": "IWxlFq0bYJ-_"
      },
      "source": [
        "1). Создайте два вещественных тензора: `a` размером (3, 4) и `b` размером (12,)   \n",
        "2). Создайте тензор `c`, являющийся тензором `b`, но размера (2, 2, 3)  \n",
        "3). Выведите первый столбец матрицы `a` с помощью индексации"
      ]
    },
    {
      "cell_type": "code",
      "metadata": {
        "id": "3oxZuk3yYJ_A",
        "colab": {
          "base_uri": "https://localhost:8080/"
        },
        "outputId": "a5f23e05-9e3e-470a-c54e-ac926ba1e2bb"
      },
      "source": [
        "a = torch.FloatTensor(3, 4)\n",
        "b = torch.FloatTensor(12,)\n",
        "print(a)\n",
        "print(b)\n"
      ],
      "execution_count": null,
      "outputs": [
        {
          "output_type": "stream",
          "name": "stdout",
          "text": [
            "tensor([[ 6.1633e+07,  3.0688e-41, -9.4427e+28,  3.0687e-41],\n",
            "        [ 2.3822e-44,  0.0000e+00,         nan,         nan],\n",
            "        [ 0.0000e+00,  0.0000e+00,  0.0000e+00,  0.0000e+00]])\n",
            "tensor([6.1634e+07, 3.0688e-41, 2.3694e-38, 2.3694e-38, 2.3694e-38, 2.3694e-38,\n",
            "        0.0000e+00, 0.0000e+00, 0.0000e+00, 0.0000e+00, 0.0000e+00, 0.0000e+00])\n"
          ]
        }
      ]
    },
    {
      "cell_type": "code",
      "source": [
        "c = b.view(2, 2, 3)\n",
        "print(c)\n",
        "\n"
      ],
      "metadata": {
        "colab": {
          "base_uri": "https://localhost:8080/"
        },
        "id": "dArg4z7y-Z5v",
        "outputId": "a22543d8-c81f-4ec8-a223-7e61abd4c392"
      },
      "execution_count": null,
      "outputs": [
        {
          "output_type": "stream",
          "name": "stdout",
          "text": [
            "tensor([[[6.1634e+07, 3.0688e-41, 2.3694e-38],\n",
            "         [2.3694e-38, 2.3694e-38, 2.3694e-38]],\n",
            "\n",
            "        [[0.0000e+00, 0.0000e+00, 0.0000e+00],\n",
            "         [0.0000e+00, 0.0000e+00, 0.0000e+00]]])\n"
          ]
        }
      ]
    },
    {
      "cell_type": "code",
      "source": [
        "a[:, 0]"
      ],
      "metadata": {
        "colab": {
          "base_uri": "https://localhost:8080/"
        },
        "id": "60vMlPmw-mHC",
        "outputId": "f8fdaee7-4e2c-4ee2-b5e9-bce600bea1ee"
      },
      "execution_count": null,
      "outputs": [
        {
          "output_type": "execute_result",
          "data": {
            "text/plain": [
              "tensor([6.1633e+07, 2.3822e-44, 0.0000e+00])"
            ]
          },
          "metadata": {},
          "execution_count": 49
        }
      ]
    },
    {
      "cell_type": "markdown",
      "metadata": {
        "id": "D2IP_FrKYKAA"
      },
      "source": [
        "### Задача 2"
      ]
    },
    {
      "cell_type": "markdown",
      "metadata": {
        "id": "tBZFbSYQYKAA"
      },
      "source": [
        "1). Создайте два вещественных тензора: `a` размером (5, 2) и `b` размером (1,10)   \n",
        "2). Создайте тензор `c`, являющийся тензором `b`, но размера (5, 2)  \n",
        "3). Произведите все арифметические операции с тензорами `a` и `c`"
      ]
    },
    {
      "cell_type": "code",
      "metadata": {
        "id": "hzs2bH3GYKAB"
      },
      "source": [
        "# Ваш код здесь\n",
        "a = torch.FloatTensor(5, 2)\n",
        "b = torch.FloatTensor(1, 10)\n",
        "\n",
        "c = b.view(5, 2)"
      ],
      "execution_count": null,
      "outputs": []
    },
    {
      "cell_type": "code",
      "source": [
        "a.add(c)"
      ],
      "metadata": {
        "colab": {
          "base_uri": "https://localhost:8080/"
        },
        "id": "69eytgGx9NyK",
        "outputId": "fd048d1f-25e6-44ae-a935-b09b0bce2035"
      },
      "execution_count": null,
      "outputs": [
        {
          "output_type": "execute_result",
          "data": {
            "text/plain": [
              "tensor([[1.2327e+08, 6.1377e-41],\n",
              "        [2.3694e-38, 2.3694e-38],\n",
              "        [2.3694e-38, 2.3694e-38],\n",
              "        [1.0842e-19, 3.8177e-05],\n",
              "        [1.0842e-19, 3.8177e-05]])"
            ]
          },
          "metadata": {},
          "execution_count": 51
        }
      ]
    },
    {
      "cell_type": "code",
      "source": [
        "a.sub(c)"
      ],
      "metadata": {
        "colab": {
          "base_uri": "https://localhost:8080/"
        },
        "id": "YVjPF_0R9QZy",
        "outputId": "0d75b420-61bd-4e7c-c4cd-089004073a53"
      },
      "execution_count": null,
      "outputs": [
        {
          "output_type": "execute_result",
          "data": {
            "text/plain": [
              "tensor([[ 5.1200e+02,  0.0000e+00],\n",
              "        [-2.3694e-38, -2.3694e-38],\n",
              "        [-2.3694e-38, -2.3694e-38],\n",
              "        [-1.0842e-19, -3.8177e-05],\n",
              "        [-1.0842e-19, -3.8177e-05]])"
            ]
          },
          "metadata": {},
          "execution_count": 52
        }
      ]
    },
    {
      "cell_type": "code",
      "source": [
        "a.mul(c)"
      ],
      "metadata": {
        "colab": {
          "base_uri": "https://localhost:8080/"
        },
        "id": "pCTRPmfu9S3O",
        "outputId": "7476d10d-0f9b-40e7-8680-8e8133dd91ea"
      },
      "execution_count": null,
      "outputs": [
        {
          "output_type": "execute_result",
          "data": {
            "text/plain": [
              "tensor([[3.7988e+15, 0.0000e+00],\n",
              "        [0.0000e+00, 0.0000e+00],\n",
              "        [0.0000e+00, 0.0000e+00],\n",
              "        [0.0000e+00, 0.0000e+00],\n",
              "        [0.0000e+00, 0.0000e+00]])"
            ]
          },
          "metadata": {},
          "execution_count": 53
        }
      ]
    },
    {
      "cell_type": "code",
      "source": [
        "a.div(c)"
      ],
      "metadata": {
        "colab": {
          "base_uri": "https://localhost:8080/"
        },
        "id": "7XX2FSvL9T5K",
        "outputId": "bc205e33-bbe8-4c5e-ccb2-ec2e09565b5f"
      },
      "execution_count": null,
      "outputs": [
        {
          "output_type": "execute_result",
          "data": {
            "text/plain": [
              "tensor([[1.0000e+00, 1.0000e+00],\n",
              "        [1.1828e-07, 0.0000e+00],\n",
              "        [1.1828e-07, 0.0000e+00],\n",
              "        [0.0000e+00, 0.0000e+00],\n",
              "        [0.0000e+00, 0.0000e+00]])"
            ]
          },
          "metadata": {},
          "execution_count": 54
        }
      ]
    },
    {
      "cell_type": "markdown",
      "metadata": {
        "id": "rIaroFO6YKBT"
      },
      "source": [
        "### Задача 3"
      ]
    },
    {
      "cell_type": "markdown",
      "metadata": {
        "id": "GfLHVvKvYKBT"
      },
      "source": [
        "1). Создайте тензор *целых чисел* `images` размерности (100, 200, 200, 3) (можно интерпретировать это как 100 картинок размера 200х200 с тремя цветовыми каналами, то есть 100 цветных изображений 200х200). Заполните его нулями  \n",
        "\n",
        "2). Сделайте так, чтобы у $i$-ой по порядку картинки была нарисована белая полоса толщиной два пикселя в строках, которые соответствуют номеру картинки. Например, у 3-ей по порядку картинки белая полоска будет занимать 6 и 7 строки, у 99 - 198 и 199. Сделать белую строку можно, записав в ячейки тензора число 255 (по всем трём каналам). Выведите несколько примеров с помощью `pylot`  \n",
        "\n",
        "3). Посчитайте среднее тензора `images` по 1-ой оси (по сути - средняя картинка), умножьте полученный тензор на 70. Нарисуйте с помощью `pyplot`, должна получиться серая картинка (при взятии среднего нужно привести тензор к float с помощью `.float()`, при отрисовке обратно к int с помощью `.int()`)"
      ]
    },
    {
      "cell_type": "code",
      "metadata": {
        "id": "pZVGHEQQYKBU",
        "colab": {
          "base_uri": "https://localhost:8080/",
          "height": 288
        },
        "outputId": "5be6c8c1-c463-4eae-eb48-1b0c297f8500"
      },
      "source": [
        "# Ваш код здесь\n",
        "images = torch.IntTensor(100, 200, 200, 3).zero_()\n",
        "\n",
        "for i in range(images.shape[0]):\n",
        "  images[i, 2 * i: 2 * i + 2, :, :] = 255\n",
        "\n",
        "plt.imshow(images[3])"
      ],
      "execution_count": null,
      "outputs": [
        {
          "output_type": "execute_result",
          "data": {
            "text/plain": [
              "<matplotlib.image.AxesImage at 0x7f050f128cd0>"
            ]
          },
          "metadata": {},
          "execution_count": 55
        },
        {
          "output_type": "display_data",
          "data": {
            "image/png": "[encoded data removed]",
            "text/plain": [
              "<Figure size 432x288 with 1 Axes>"
            ]
          },
          "metadata": {
            "needs_background": "light"
          }
        }
      ]
    },
    {
      "cell_type": "code",
      "source": [
        "images = torch.IntTensor(100, 200, 200, 3).zero_()\n",
        "\n",
        "for i in range(images.shape[0]):\n",
        "  images[i, 2 * i: 2 * i + 2, :, :] = 255\n",
        "\n",
        "plt.imshow(images[6])"
      ],
      "metadata": {
        "colab": {
          "base_uri": "https://localhost:8080/",
          "height": 288
        },
        "id": "ByORk-zF_EVP",
        "outputId": "2b7949a3-8768-4ee0-903e-3f9035b2e343"
      },
      "execution_count": null,
      "outputs": [
        {
          "output_type": "execute_result",
          "data": {
            "text/plain": [
              "<matplotlib.image.AxesImage at 0x7f050f0eee90>"
            ]
          },
          "metadata": {},
          "execution_count": 56
        },
        {
          "output_type": "display_data",
          "data": {
            "image/png": "[encoded data removed]",
            "text/plain": [
              "<Figure size 432x288 with 1 Axes>"
            ]
          },
          "metadata": {
            "needs_background": "light"
          }
        }
      ]
    },
    {
      "cell_type": "code",
      "source": [
        "images = torch.IntTensor(100, 200, 200, 3).zero_()\n",
        "\n",
        "for i in range(images.shape[0]):\n",
        "  images[i, 2 * i: 2 * i + 2, :, :] = 255\n",
        "\n",
        "plt.imshow(images[23])"
      ],
      "metadata": {
        "colab": {
          "base_uri": "https://localhost:8080/",
          "height": 288
        },
        "id": "03CGi_sq_Heo",
        "outputId": "4b9cd684-8277-4cce-bdf0-944b0acef7d3"
      },
      "execution_count": null,
      "outputs": [
        {
          "output_type": "execute_result",
          "data": {
            "text/plain": [
              "<matplotlib.image.AxesImage at 0x7f050f05cb90>"
            ]
          },
          "metadata": {},
          "execution_count": 57
        },
        {
          "output_type": "display_data",
          "data": {
            "image/png": "[encoded data removed]",
            "text/plain": [
              "<Figure size 432x288 with 1 Axes>"
            ]
          },
          "metadata": {
            "needs_background": "light"
          }
        }
      ]
    },
    {
      "cell_type": "code",
      "source": [
        "plt.imshow((images.float().mean(0) * 70).int())"
      ],
      "metadata": {
        "colab": {
          "base_uri": "https://localhost:8080/",
          "height": 288
        },
        "id": "koKsbJUj_RZX",
        "outputId": "363a6586-01c8-4140-8c89-543946c94006"
      },
      "execution_count": null,
      "outputs": [
        {
          "output_type": "execute_result",
          "data": {
            "text/plain": [
              "<matplotlib.image.AxesImage at 0x7f050efc9e90>"
            ]
          },
          "metadata": {},
          "execution_count": 58
        },
        {
          "output_type": "display_data",
          "data": {
            "image/png": "[encoded data removed]",
            "text/plain": [
              "<Figure size 432x288 with 1 Axes>"
            ]
          },
          "metadata": {
            "needs_background": "light"
          }
        }
      ]
    },
    {
      "cell_type": "markdown",
      "metadata": {
        "id": "oQnhq5ZdYKCu"
      },
      "source": [
        "### Задача 4"
      ]
    },
    {
      "cell_type": "markdown",
      "metadata": {
        "id": "UB95BhgTYKCu"
      },
      "source": [
        "- В Colab нажмите в меню сверху: `Runtime` -> `Change Runtime Type` -> `GPU`, где изначально стоит `None` (`Среда выполнение` - `Сменить среду выполнения`)\n",
        "- Объявите тензор `a` размера (2, 3, 4) и тензор `b` размера (1, 8, 3) на GPU, иницилизируйте их случайно равномерно (`.uniform_()`)\n",
        "- Затем измените форму тензора `b`, чтобы она совпадала с формой тензора `a`, получите тензор `c`  \n",
        "- Переместите `c` на CPU, переместите `a` на CPU  \n",
        "- Оберните их в `Variable()`\n",
        "- Объявите тензор `L = torch.mean((c - a) `**` 2)` и посчитайте градиент `L` по `c` ( то есть $\\frac{\\partial{L}}{\\partial{c}})$\n",
        "- Выведите градиент `L` по `c`"
      ]
    },
    {
      "cell_type": "code",
      "metadata": {
        "id": "WESOm5TCYKCv",
        "colab": {
          "base_uri": "https://localhost:8080/"
        },
        "outputId": "1a3a82fa-805f-4727-c6d0-157fa914ced6"
      },
      "source": [
        "# Ваш код здесь\n",
        "a = torch.FloatTensor(2, 3, 4).uniform_().cuda()\n",
        "b = torch.FloatTensor(1, 8, 3).uniform_().cuda()\n",
        "print(a)\n",
        "print(b)\n"
      ],
      "execution_count": null,
      "outputs": [
        {
          "output_type": "stream",
          "name": "stdout",
          "text": [
            "tensor([[[0.4430, 0.7784, 0.9908, 0.3119],\n",
            "         [0.2260, 0.7568, 0.3507, 0.5872],\n",
            "         [0.1029, 0.9752, 0.0068, 0.8283]],\n",
            "\n",
            "        [[0.8513, 0.5356, 0.0918, 0.1244],\n",
            "         [0.0437, 0.3230, 0.7854, 0.7384],\n",
            "         [0.1717, 0.0324, 0.8336, 0.9579]]], device='cuda:0')\n",
            "tensor([[[0.2066, 0.1224, 0.1704],\n",
            "         [0.4641, 0.2536, 0.6285],\n",
            "         [0.9720, 0.6978, 0.5325],\n",
            "         [0.5353, 0.4567, 0.3057],\n",
            "         [0.7024, 0.2329, 0.0963],\n",
            "         [0.3133, 0.1005, 0.2688],\n",
            "         [0.9982, 0.4723, 0.3134],\n",
            "         [0.6847, 0.6598, 0.3842]]], device='cuda:0')\n"
          ]
        }
      ]
    },
    {
      "cell_type": "code",
      "source": [
        "c = b.view(a.shape)\n",
        "print(a.size())\n",
        "print(c.size())\n",
        "\n"
      ],
      "metadata": {
        "colab": {
          "base_uri": "https://localhost:8080/"
        },
        "id": "yL51wsIU_cuD",
        "outputId": "c78ecc6b-92e2-446b-f283-c72a99064717"
      },
      "execution_count": null,
      "outputs": [
        {
          "output_type": "stream",
          "name": "stdout",
          "text": [
            "torch.Size([2, 3, 4])\n",
            "torch.Size([2, 3, 4])\n"
          ]
        }
      ]
    },
    {
      "cell_type": "code",
      "source": [
        "from torch.autograd import Variable\n",
        "\n",
        "c = Variable(c.cpu(), requires_grad=True)\n",
        "a = Variable(a.cpu())\n",
        "print(c)\n",
        "print(a)\n",
        "\n"
      ],
      "metadata": {
        "colab": {
          "base_uri": "https://localhost:8080/"
        },
        "id": "T_irCowG_tmJ",
        "outputId": "3454e53a-790c-4a5d-e330-ad67f8e11592"
      },
      "execution_count": null,
      "outputs": [
        {
          "output_type": "stream",
          "name": "stdout",
          "text": [
            "tensor([[[0.2066, 0.1224, 0.1704, 0.4641],\n",
            "         [0.2536, 0.6285, 0.9720, 0.6978],\n",
            "         [0.5325, 0.5353, 0.4567, 0.3057]],\n",
            "\n",
            "        [[0.7024, 0.2329, 0.0963, 0.3133],\n",
            "         [0.1005, 0.2688, 0.9982, 0.4723],\n",
            "         [0.3134, 0.6847, 0.6598, 0.3842]]], requires_grad=True)\n",
            "tensor([[[0.4430, 0.7784, 0.9908, 0.3119],\n",
            "         [0.2260, 0.7568, 0.3507, 0.5872],\n",
            "         [0.1029, 0.9752, 0.0068, 0.8283]],\n",
            "\n",
            "        [[0.8513, 0.5356, 0.0918, 0.1244],\n",
            "         [0.0437, 0.3230, 0.7854, 0.7384],\n",
            "         [0.1717, 0.0324, 0.8336, 0.9579]]])\n"
          ]
        }
      ]
    },
    {
      "cell_type": "code",
      "source": [
        "L = torch.mean((c - a)**2)\n",
        "L.backward()\n",
        "c.grad"
      ],
      "metadata": {
        "colab": {
          "base_uri": "https://localhost:8080/"
        },
        "id": "pugmBGJe__Ep",
        "outputId": "3cd40b4f-2036-4358-efb8-10f4a3b60333"
      },
      "execution_count": null,
      "outputs": [
        {
          "output_type": "execute_result",
          "data": {
            "text/plain": [
              "tensor([[[-0.0197, -0.0547, -0.0684,  0.0127],\n",
              "         [ 0.0023, -0.0107,  0.0518,  0.0092],\n",
              "         [ 0.0358, -0.0367,  0.0375, -0.0436]],\n",
              "\n",
              "        [[-0.0124, -0.0252,  0.0004,  0.0157],\n",
              "         [ 0.0047, -0.0045,  0.0177, -0.0222],\n",
              "         [ 0.0118,  0.0544, -0.0145, -0.0478]]])"
            ]
          },
          "metadata": {},
          "execution_count": 62
        }
      ]
    }
  ]
}